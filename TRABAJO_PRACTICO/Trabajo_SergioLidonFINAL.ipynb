{
  "cells": [
    {
      "cell_type": "markdown",
      "metadata": {
        "id": "view-in-github",
        "colab_type": "text"
      },
      "source": [
        "<a href=\"https://colab.research.google.com/github/slc2345/Algoritmos_Optimizacion/blob/main/Trabajo_SergioLidonFINAL.ipynb\" target=\"_parent\"><img src=\"https://colab.research.google.com/assets/colab-badge.svg\" alt=\"Open In Colab\"/></a>"
      ]
    },
    {
      "cell_type": "markdown",
      "metadata": {
        "id": "hVbXYX-RfPWh"
      },
      "source": [
        "# Algoritmos de optimización - Trabajo Práctico<br>\n",
        "### **Nombre y Apellidos: SERGIO LIDÓN CALVO** <br>\n",
        "\n",
        "\n",
        "\n",
        "Url: https://github.com/slc2345/Algoritmos_Optimizacion.git<br>\n",
        "Google Colab:https://colab.research.google.com/drive/1fOiX0gu0L_0moiT1lrorbyu3EYDhuOPW?usp=sharing <br>\n",
        "Problema: Sesiones de doblaje <br>\n",
        "\n",
        "Descripción del problema:\n",
        "\n",
        "Se precisa coordinar el doblaje de una película. Los actores del doblaje deben\n",
        "coincidir en las tomas en las que sus personajes aparecen juntos en las diferentes tomas. Los actores de doblaje cobran todos la misma cantidad por cada día que deben desplazarse hasta el estudio de grabación independientemente del número de tomas que se graben. No es posible grabar más de 6 tomas por día. El objetivo es planificar las sesiones por día de manera que el gasto por los\n",
        "servicios de los actores de doblaje sea el menor posible.\n",
        "\n",
        "\n",
        "\n",
        "\n",
        "\n",
        "\n",
        "\n",
        "                                        "
      ]
    },
    {
      "cell_type": "markdown",
      "metadata": {
        "id": "Sbo9IqQtpaHZ"
      },
      "source": [
        "#Modelo\n",
        "**- ¿Como represento el espacio de soluciones?**\n",
        "\n",
        "El espacio de soluciones lo represento como una lista formada por sublistas que contienen las tomas que se grabarán en cada día: (lista[1]-> Lista que contiene el conjunto de tomas en el DÍA 1).\n",
        "\n",
        "**- ¿Cual es la función objetivo?**\n",
        "\n",
        "La función objetivo de este problema es minimizar el costo de la grabación total, minimizando la cantidad de veces que va un actor al set de rodaje. Esto se realiza agrupando las tomas asegurandonos de maximizar las coincidencias entre actores en las tomas, para minimizar el coste.\n",
        "\n",
        "\n",
        "**- ¿Como implemento las restricciones?**\n",
        "\n",
        "La restricción prinicpal de este problema es que en un día de grabación, se puede grabar máximo 6 tomas. En el método de búsqueda tabú, la restricción se realiza cuando se va a crear la planificación aleatoria, empleando subconjuntos de 6 tomas."
      ]
    },
    {
      "cell_type": "markdown",
      "metadata": {
        "id": "HZz52wOppp-U"
      },
      "source": [
        "#Análisis\n",
        "**- ¿Que complejidad tiene el problema?. Orden de complejidad y Contabilizar el espacio de soluciones**\n",
        "\n",
        "La complejidad de este problema es elevada, debido a que es un problema combinatorio que presenta un significativo espacio de soluciones. Al ser un problema de tipo binario (estar una toma o no en un día) de alto nivel de opciones, el orden de complejidad es de tipo exponencial: O(2^n), siendo n el número de tomas, en este caso, 30.\n",
        "\n",
        "Respecto a contabilizar el espacio de soluciones, es un problema de combinaciones, ya que no importa el orden ni se permite repetir tomas, pero existe la restricción de 6 tomas MÁXIMO por día. El cálculo del espacio de soluciones se podría calcular de la siguiente forma: Cn,k = n! / (k! * (n-1)!), siendo n = 30 tomas y k el número de días, pero claro, hay que tener en cuenta la restricción de las tomas máximas por día y la coincidencia entre actores en las tomas de un día, por tanto, de esta forma no se podría calcular, se debe realizar métodos de optimización para calcularlo al ser un problema más complejo."
      ]
    },
    {
      "cell_type": "markdown",
      "metadata": {
        "id": "ixEJUwH_pv7M"
      },
      "source": [
        "#Diseño\n",
        "**- ¿Que técnica utilizo? ¿Por qué?**\n",
        "\n",
        "La técnica empleada en este caso es de tipo **Heurística**, en concreto, **Búsqueda Tabú**.\n",
        "\n",
        "En este caso se  emplea un algoritmo heurístico debido a que es un problema combinatorio con una gran cantidad de posibilidades al ser 30 tomas y 10 actores y este tipo de algoritmos nos sirve para obtener una solución óptima(que no exacta) en un tiempo razonable.\n",
        "\n",
        "Existen métodos exactos, como Fuerza Bruta, los cuales realizan la búsqueda de la solución óptima en todo el espacio de soluciones, obteniendo el mejor de todos, pero el problema es que existe un gran gasto computacional al haber muchas combinaciones que explorar. Por tanto, el uso en este caso de un algoritmo de tipo heurístico aporta una gran ventaja, ya que, busca soluciones de buena calidad en un menor tiempo, con un menor coste computacional.\n",
        "\n",
        "La búsqueda Tabú es una gran opción, debido a que es una técnica que, empleando la búsqueda local, genera nuevas soluciones vecinas a partir de una solución inicial. A partir de una lista tabú, en la cual se almacenan soluciones que ya se han visto, evitando su utilización en las siguientes iteraciones y de este modo, escapar de óptimos locales. La mejor solución hasta el momento, será la final."
      ]
    },
    {
      "cell_type": "code",
      "source": [
        "# IMPORTS\n",
        "import numpy as np\n",
        "import random\n",
        "import copy"
      ],
      "metadata": {
        "id": "rpK1buzcEHzx"
      },
      "execution_count": 1,
      "outputs": []
    },
    {
      "cell_type": "code",
      "source": [
        "# DATOS DEL PROBLEMA\n",
        "max_tomas =  6 # Máximo de tomas por días\n",
        "\n",
        "actores_tomas = np.array([[1,1,1,1,1,0,0,0,0,0],[0,0,1,1,1,0,0,0,0,0],[0,1,0,0,1,0,1,0,0,0],[1,1,0,0,0,0,1,1,0,0],[0,1,0,1,0,0,0,1,0,0],[1,1,0,1,1,0,0,0,0,0],[1,1,0,1,1,0,0,0,0,0],[1,1,0,0,0,1,0,0,0,0],[1,1,0,1,0,0,0,0,0,0],\n",
        "[1,1,0,0,0,1,0,0,1,0],[1,1,1,0,1,0,0,1,0,0],[1,1,1,1,0,1,0,0,0,0],[1,0,0,1,1,0,0,0,0,0],[1,0,1,0,0,1,0,0,0,0],[1,1,0,0,0,0,1,0,0,0],[0,0,0,1,0,0,0,0,0,1],[1,0,1,0,0,0,0,0,0,0],[0,0,1,0,0,1,0,0,0,0],[1,0,1,0,0,0,0,0,0,0],\n",
        "[1,0,1,1,1,0,0,0,0,0],[0,0,0,0,0,1,0,1,0,0],[1,1,1,1,0,0,0,0,0,0],[1,0,1,0,0,0,0,0,0,0],[0,0,1,0,0,1,0,0,0,0],[1,1,0,1,0,0,0,0,0,1],[1,0,1,0,1,0,0,0,1,0],[0,0,0,1,1,0,0,0,0,0],[1,0,0,1,0,0,0,0,0,0],[1,0,0,0,1,1,0,0,0,0],\n",
        "[1,0,0,1,0,0,0,0,0,0],])\n",
        " # Cada sublista es una toma y cada elemento de la sublista (indice 0,1,2..) es el actor, siendo 1 si participa en la toma y 0 si no participa en la toma\n",
        "\n",
        "num_tomas, num_actores = actores_tomas.shape # Número de actores y tomas totales a realizar\n",
        "\n",
        "print(f\"Número de actores: {num_actores} actores\\nNúmero de tomas: {num_tomas} tomas\\nMáximo de tomas/día: {max_tomas} tomas/día\")\n",
        "\n",
        "max_iter = 500  # Número de iteraciones de búsqueda Tabú\n",
        "tabu = 50  # Tamaño de la lista tabú\n",
        "\n",
        "print(f\"El número máximo de iteraciones es: {max_iter} y el tamaño de la lista Tabú: {tabu}\")"
      ],
      "metadata": {
        "id": "j3nM9uhj6u0C",
        "colab": {
          "base_uri": "https://localhost:8080/"
        },
        "outputId": "b1bc0835-2660-4326-9ea3-aee10cbc8fa7"
      },
      "execution_count": 2,
      "outputs": [
        {
          "output_type": "stream",
          "name": "stdout",
          "text": [
            "Número de actores: 10 actores\n",
            "Número de tomas: 30 tomas\n",
            "Máximo de tomas/día: 6 tomas/día\n",
            "El número máximo de iteraciones es: 500 y el tamaño de la lista Tabú: 50\n"
          ]
        }
      ]
    },
    {
      "cell_type": "code",
      "source": [
        "# FUNCIÓN DE COSTE DEL RODAJE, suponiendo que cuesta un euro el dia que un actor va al set de rodaje, dando igual la cantidad de tomas (Los actores cobran lo mismo por cada día que van al set)\n",
        "def calcular_coste(actores_tomas, plan_grabacion):\n",
        "    coste = 0 # Se inicializa variable del coste total\n",
        "    for dia in plan_grabacion: # Se recorre la lista de días de grabación\n",
        "        grabar = set()\n",
        "        for toma in dia: # Se recorre el número de toma que se hace por día\n",
        "            for actor, graba in enumerate(actores_tomas[toma]): # Se recorren los actores por toma y se obtiene el actor (0-10) y si graba o no (0: NO, 1: sí)\n",
        "              if graba == 1: # Si sí que graba, se incluye el actor en el set (no se repite al ser un set, por tanto, simplemente se muestra si en un dia un actor va al set)\n",
        "                grabar.add(actor)\n",
        "        coste += len(grabar) # Se suma al coste total de la grabación el coste por día de grabación\n",
        "\n",
        "    return coste # Se devuelve el coste total de la grabación"
      ],
      "metadata": {
        "id": "2DyaGW4UVcKg"
      },
      "execution_count": 3,
      "outputs": []
    },
    {
      "cell_type": "code",
      "source": [
        "# FUNCIÓN DE BÚSQUEDA TABÚ\n",
        "def busqueda_tabu(actores_tomas, num_tomas, max_tomas, max_iter, tabu):\n",
        "    # GENERACIÓN DE UNA SOLUCIÓN INICIAL ALEATORIA: Diversificación\n",
        "    random.seed(42) # Se crea una semilla para que la solución inicial siempre sea la misma al ejecutar\n",
        "    inicio = list(range(num_tomas)) # Se crea una lista con los números de tomas (0-30)\n",
        "    random.shuffle(inicio) # Se desordenan los elementos\n",
        "    plan_inicial = [inicio[i:i+max_tomas]for i in range(0, len(inicio), max_tomas)] # Se agrupan las tomas en grupos de 6 (el máximo por día)\n",
        "    plan_actual = plan_inicial # El plan actual es el inicial generado, el cual se irá actualizando en las siguientes líneas\n",
        "    coste = calcular_coste(actores_tomas, plan_actual) # Se calcula el coste con la configuración del plan de rodaje inicial\n",
        "\n",
        "    # DECLARACIÓN DE LA LISTA TABÚ Y\n",
        "    lista_tabu = [] # Se inicializa la lista Tabú\n",
        "\n",
        "    # SE COMIENZA EL PROCESO DE ITERACIONES (max_iter)\n",
        "    for x in range(max_iter): # Se crea el proceso x iteraciones máximas\n",
        "\n",
        "        # BÚSQUEDA DE VECINDAD LOCAL: Se intercambian tomas entre días\n",
        "        vecino = [] # Se inicializa la lista de vecinos\n",
        "        for i in range(len(plan_inicial)): # Se recorren los días de la planificación\n",
        "            for j in range(i + 1, len(plan_inicial)): # Se recorre la planificación de 1 a 30 (para que no se repitan los pares de días)\n",
        "              # Se generan Ids de lista aleatorios, para crear nuevo planing intercambiando tomas entre dias con los Ids\n",
        "              id1 = random.randint(0, len(plan_inicial[i]) - 1)\n",
        "              id2 = random.randint(0, len(plan_inicial[j]) - 1)\n",
        "              nuevo_plan = copy.deepcopy(plan_inicial) # Se crea una copia del plan inicial para no transcribirlo con los cambios a realizar\n",
        "              nuevo_plan[i][id1], nuevo_plan[j][id2] = nuevo_plan[j][id2], nuevo_plan[i][id1] # Se intercambian las tomas entre los días, para generar nuevo planning\n",
        "              vecino.append(nuevo_plan) # Se añade el plan a la lisat de vecinos\n",
        "\n",
        "        validas = [i for i in vecino if i not in lista_tabu] # Se filtran los vecinos que no están en la lista tabú, siendo validas\n",
        "        vecino_min = min(validas, key=lambda v: calcular_coste(actores_tomas, v), default=None) # Se elige el vecino con menor coste. Si la lista está vacia, se devuelve none\n",
        "\n",
        "        # COMPROBAR EL COSTE DEL MEJOR VECINO\n",
        "        if calcular_coste(actores_tomas, vecino_min) < coste:\n",
        "            plan_actual = vecino_min # Si el coste es menor, el planning actual será este\n",
        "            coste = calcular_coste(actores_tomas, vecino_min) # Se calcula de nuevo el coste\n",
        "\n",
        "        # AÑADIR EL VECINO MÍNIMO A LA LISTA TABÚ\n",
        "        if vecino_min:\n",
        "            lista_tabu.append(vecino_min) # Añadir el vecino con mínimo coste a la lista tabú\n",
        "            if len(lista_tabu) > tabu: # Se elimina la solución más antigua si la lista supera el tamaño que se ha definido al principio\n",
        "                lista_tabu.pop(0)\n",
        "\n",
        "    return plan_actual, coste # Se devuelve el planing final y el coste"
      ],
      "metadata": {
        "id": "rUBYxo083Cd2"
      },
      "execution_count": 4,
      "outputs": []
    },
    {
      "cell_type": "code",
      "source": [
        "# PRUEBA DEL CÓDIGO DE BÚSQUEDA TABÚ\n",
        "planning, coste = busqueda_tabu(actores_tomas, num_tomas, max_tomas, max_iter, tabu) # Se llama a la función\n",
        "\n",
        "print(\"     --- Planificación del rodaje ---\")\n",
        "for i, dia in enumerate(planning, start=1): # Se recorre el planning final. El start = 1 es para empezar los dias en 1 y no en 0.\n",
        "  nuevo_dia = [j+1 for j in dia] # Se suma 1 a cada toma, para que empiece en 1\n",
        "  print(f\"Día {i} de rodaje: TOMAS {nuevo_dia}\")\n",
        "print(f\"Coste del rodaje: {coste} euros\")"
      ],
      "metadata": {
        "colab": {
          "base_uri": "https://localhost:8080/"
        },
        "id": "Fmqk2gcmnuQR",
        "outputId": "47840446-bc1e-4331-fab0-228a4859bc85"
      },
      "execution_count": 5,
      "outputs": [
        {
          "output_type": "stream",
          "name": "stdout",
          "text": [
            "     --- Planificación del rodaje ---\n",
            "Día 1 de rodaje: TOMAS [20, 5, 11, 27, 23, 7]\n",
            "Día 2 de rodaje: TOMAS [6, 13, 12, 16, 10, 26]\n",
            "Día 3 de rodaje: TOMAS [30, 22, 17, 28, 2, 14]\n",
            "Día 4 de rodaje: TOMAS [19, 3, 18, 29, 15, 25]\n",
            "Día 5 de rodaje: TOMAS [8, 9, 24, 1, 4, 21]\n",
            "Coste del rodaje: 36 euros\n"
          ]
        }
      ]
    }
  ],
  "metadata": {
    "colab": {
      "provenance": [],
      "gpuType": "T4",
      "include_colab_link": true
    },
    "kernelspec": {
      "display_name": "Python 3",
      "name": "python3"
    },
    "accelerator": "GPU"
  },
  "nbformat": 4,
  "nbformat_minor": 0
}